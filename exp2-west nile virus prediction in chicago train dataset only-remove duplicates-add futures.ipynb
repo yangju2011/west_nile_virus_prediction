{
 "cells": [
  {
   "cell_type": "code",
   "execution_count": 3,
   "metadata": {},
   "outputs": [],
   "source": [
    "import pandas as pd\n",
    "import numpy as np\n",
    "from sklearn import ensemble, preprocessing\n",
    "\n",
    "import pandas as pd\n",
    "import numpy as np\n",
    "import matplotlib.pyplot as plt\n",
    "%matplotlib inline"
   ]
  },
  {
   "cell_type": "code",
   "execution_count": 33,
   "metadata": {},
   "outputs": [],
   "source": [
    "# Load dataset \n",
    "train = pd.read_csv('remove_duplicates_transform_label_address_train.csv')\n",
    "test = pd.read_csv('remove_duplicates_transform_label_address_test.csv')\n",
    "sample = pd.read_csv('input/sampleSubmission.csv')\n",
    "train['Zipcode']=train['Zipcode'].astype(str)\n",
    "test['Zipcode']=test['Zipcode'].astype(str)"
   ]
  },
  {
   "cell_type": "code",
   "execution_count": 26,
   "metadata": {},
   "outputs": [
    {
     "data": {
      "text/plain": [
       "Date                object\n",
       "Species             object\n",
       "Block                int64\n",
       "Street              object\n",
       "Trap                object\n",
       "Latitude           float64\n",
       "Longitude          float64\n",
       "AddressAccuracy      int64\n",
       "WnvPresent           int64\n",
       "City                object\n",
       "State               object\n",
       "Zipcode             object\n",
       "dtype: object"
      ]
     },
     "execution_count": 26,
     "metadata": {},
     "output_type": "execute_result"
    }
   ],
   "source": [
    "train.dtypes"
   ]
  },
  {
   "cell_type": "code",
   "execution_count": 28,
   "metadata": {},
   "outputs": [],
   "source": [
    "def generate_date_features(df):\n",
    "    df['Date'] = pd.to_datetime(df['Date'])\n",
    "    df['Year'] = df['Date'].apply(lambda x: x.year)\n",
    "    df['Month'] = df['Date'].apply(lambda x: x.month)\n",
    "    df['DayOfMonth'] = df['Date'].apply(lambda x: x.day)\n",
    "    # df['DayOfWeekName'] = df['Date'].apply(lambda x: x.day_name())\n",
    "    df['DayOfWeek'] = df['Date'].apply(lambda x: x.dayofweek)\n",
    "    df['DayOfYear'] = df['Date'].apply(lambda x: x.dayofyear)\n",
    "    # df['WeekOfYear'] = df['Date'].apply(lambda x: x.weekofyear)\n",
    "    #df['IsLeapYear'] = df['Date'].apply(lambda x: x.is_leap_year)\n",
    "    #df['IsLeapYear'] = df['IsLeapYear'].astype(str)\n",
    "    # df['Quarter'] = df['Date'].apply(lambda x: x.quarter)\n",
    "\n",
    "def transform_df(df):\n",
    "    df_ = df.copy()\n",
    "    df_['Lat_int'] = df_.Latitude.astype(int)\n",
    "    df_['Long_int'] = df_.Longitude.astype(int)\n",
    "    generate_date_features(df_)\n",
    "    return df_"
   ]
  },
  {
   "cell_type": "code",
   "execution_count": 29,
   "metadata": {},
   "outputs": [],
   "source": [
    "train2 = transform_df(train)\n",
    "test2 = transform_df(test)"
   ]
  },
  {
   "cell_type": "code",
   "execution_count": 30,
   "metadata": {},
   "outputs": [],
   "source": [
    "# drop address columns\n",
    "train2 = train2.drop(['Date'],  axis = 1)\n",
    "test2 = test2.drop(['Date'],  axis = 1)"
   ]
  },
  {
   "cell_type": "code",
   "execution_count": 32,
   "metadata": {},
   "outputs": [
    {
     "data": {
      "text/plain": [
       "Id                   int64\n",
       "Species             object\n",
       "Block                int64\n",
       "Street              object\n",
       "Trap                object\n",
       "Latitude           float64\n",
       "Longitude          float64\n",
       "AddressAccuracy      int64\n",
       "City                object\n",
       "State               object\n",
       "Zipcode             object\n",
       "Lat_int              int64\n",
       "Long_int             int64\n",
       "Year                 int64\n",
       "Month                int64\n",
       "DayOfMonth           int64\n",
       "DayOfWeek            int64\n",
       "DayOfYear            int64\n",
       "dtype: object"
      ]
     },
     "execution_count": 32,
     "metadata": {},
     "output_type": "execute_result"
    }
   ],
   "source": [
    "test2.dtypes "
   ]
  },
  {
   "cell_type": "markdown",
   "metadata": {},
   "source": [
    "# label encoder"
   ]
  },
  {
   "cell_type": "code",
   "execution_count": 34,
   "metadata": {},
   "outputs": [],
   "source": [
    "from sklearn import preprocessing\n",
    "from sklearn import ensemble\n",
    "from sklearn.model_selection import train_test_split\n",
    "from sklearn.model_selection import KFold\n",
    "from sklearn.model_selection import GridSearchCV\n",
    "from sklearn.metrics import accuracy_score, precision_score, recall_score, f1_score, roc_auc_score"
   ]
  },
  {
   "cell_type": "code",
   "execution_count": 35,
   "metadata": {},
   "outputs": [],
   "source": [
    "def get_label_encoder(train, test, cols):\n",
    "    lbl = preprocessing.LabelEncoder()\n",
    "    for col in cols:\n",
    "        lbl.fit(list(train[col].values) + list(test[col].values))\n",
    "        train[col] = lbl.transform(train[col].values)\n",
    "        test[col] = lbl.transform(test[col].values)\n",
    "def convert_string_to_num(df, str_columns):\n",
    "    for col in str_columns:\n",
    "        df[col] = df[col].astype(float)\n",
    "def get_metrics(y_true, y_pred):\n",
    "    print(\"Precision: %1.3f\" % precision_score(y_true, y_pred))\n",
    "    print(\"Recall: %1.3f\" % recall_score(y_true, y_pred))\n",
    "    print(\"F1: %1.3f\" % f1_score(y_true, y_pred))\n",
    "    print(\"AUC: %1.3f\" % roc_auc_score(y_true, y_pred))"
   ]
  },
  {
   "cell_type": "code",
   "execution_count": 38,
   "metadata": {},
   "outputs": [],
   "source": [
    "obj_cols = train2.select_dtypes(include=['object']).columns\n",
    "get_label_encoder(train2,test2,obj_cols)"
   ]
  },
  {
   "cell_type": "code",
   "execution_count": 57,
   "metadata": {},
   "outputs": [],
   "source": [
    "X = train2.drop(['WnvPresent'],axis=1)\n",
    "y = train2.WnvPresent.values"
   ]
  },
  {
   "cell_type": "code",
   "execution_count": 62,
   "metadata": {},
   "outputs": [
    {
     "data": {
      "text/plain": [
       "0    8018\n",
       "1     457\n",
       "Name: WnvPresent, dtype: int64"
      ]
     },
     "execution_count": 62,
     "metadata": {},
     "output_type": "execute_result"
    }
   ],
   "source": [
    "train2.WnvPresent.value_counts()"
   ]
  },
  {
   "cell_type": "code",
   "execution_count": 59,
   "metadata": {},
   "outputs": [],
   "source": [
    "X_train, X_test, y_train, y_test = train_test_split(X, \n",
    "                                                    y, \n",
    "                                                    test_size=0.3,\n",
    "                                                    random_state=42)"
   ]
  },
  {
   "cell_type": "code",
   "execution_count": 60,
   "metadata": {},
   "outputs": [],
   "source": [
    "gbt = ensemble.GradientBoostingClassifier()\n",
    "\n",
    "learning_rate = [0.02, 0.04, 0.05, 0.08]\n",
    "max_depth = [2, 3, 4, 6]\n",
    "n_estimators = [50, 100, 150]\n",
    "\n",
    "tuned_parameters = [{'max_depth': max_depth,\n",
    "                     'n_estimators':n_estimators,\n",
    "                     'learning_rate':learning_rate \n",
    "                    }]\n",
    "n_folds = 3\n",
    "\n",
    "# cv with aucroc\n",
    "clf = GridSearchCV(gbt, \n",
    "                   tuned_parameters, \n",
    "                   cv=n_folds, \n",
    "                   refit=True, \n",
    "                   scoring='roc_auc')"
   ]
  },
  {
   "cell_type": "code",
   "execution_count": 61,
   "metadata": {},
   "outputs": [
    {
     "name": "stdout",
     "output_type": "stream",
     "text": [
      "CPU times: user 56.2 s, sys: 208 ms, total: 56.4 s\n",
      "Wall time: 56.7 s\n"
     ]
    },
    {
     "data": {
      "text/plain": [
       "GridSearchCV(cv=3, error_score='raise-deprecating',\n",
       "       estimator=GradientBoostingClassifier(criterion='friedman_mse', init=None,\n",
       "              learning_rate=0.1, loss='deviance', max_depth=3,\n",
       "              max_features=None, max_leaf_nodes=None,\n",
       "              min_impurity_decrease=0.0, min_impurity_split=None,\n",
       "              min_samples_leaf=1, min_sampl...      subsample=1.0, tol=0.0001, validation_fraction=0.1,\n",
       "              verbose=0, warm_start=False),\n",
       "       fit_params=None, iid='warn', n_jobs=None,\n",
       "       param_grid=[{'max_depth': [2, 3, 4, 6], 'n_estimators': [50, 100, 150], 'learning_rate': [0.02, 0.04, 0.05, 0.08]}],\n",
       "       pre_dispatch='2*n_jobs', refit=True, return_train_score='warn',\n",
       "       scoring='roc_auc', verbose=0)"
      ]
     },
     "execution_count": 61,
     "metadata": {},
     "output_type": "execute_result"
    }
   ],
   "source": [
    "%%time\n",
    "clf.fit(X_train, y_train)"
   ]
  },
  {
   "cell_type": "code",
   "execution_count": 63,
   "metadata": {},
   "outputs": [
    {
     "data": {
      "text/plain": [
       "{'learning_rate': 0.08, 'max_depth': 3, 'n_estimators': 150}"
      ]
     },
     "execution_count": 63,
     "metadata": {},
     "output_type": "execute_result"
    }
   ],
   "source": [
    "clf.best_params_"
   ]
  },
  {
   "cell_type": "code",
   "execution_count": 64,
   "metadata": {},
   "outputs": [
    {
     "data": {
      "text/plain": [
       "array([0.80926137, 0.82097079, 0.82740496, 0.82068647, 0.82867489,\n",
       "       0.8333709 , 0.82791587, 0.83482678, 0.83611128, 0.8184082 ,\n",
       "       0.82875862, 0.8342846 , 0.82216616, 0.83230667, 0.83738335,\n",
       "       0.82841956, 0.83545523, 0.8384746 , 0.8354971 , 0.83865499,\n",
       "       0.84246441, 0.83087376, 0.83828014, 0.83990986, 0.82441309,\n",
       "       0.83637056, 0.83944123, 0.8298054 , 0.83616487, 0.84006818,\n",
       "       0.83427795, 0.84002938, 0.84104861, 0.83419144, 0.83920108,\n",
       "       0.83939485, 0.83145634, 0.8390331 , 0.84385666, 0.83509879,\n",
       "       0.83979866, 0.8439994 , 0.8375881 , 0.84050566, 0.83936624,\n",
       "       0.83334312, 0.83570961, 0.83495715])"
      ]
     },
     "execution_count": 64,
     "metadata": {},
     "output_type": "execute_result"
    }
   ],
   "source": [
    "scores = clf.cv_results_['mean_test_score']\n",
    "# cross validation on the training data\n",
    "scores"
   ]
  },
  {
   "cell_type": "code",
   "execution_count": 65,
   "metadata": {},
   "outputs": [],
   "source": [
    "def get_metrics(y_true, y_pred):\n",
    "    print(\"Precision: %1.3f\" % precision_score(y_true, y_pred))\n",
    "    print(\"Recall: %1.3f\" % recall_score(y_true, y_pred))\n",
    "    print(\"F1: %1.3f\" % f1_score(y_true, y_pred))\n",
    "    print(\"AUC: %1.3f\" % roc_auc_score(y_true, y_pred))"
   ]
  },
  {
   "cell_type": "code",
   "execution_count": 66,
   "metadata": {},
   "outputs": [],
   "source": [
    "y_train_pred = clf.predict(X_train)\n",
    "y_test_pred = clf.predict(X_test)"
   ]
  },
  {
   "cell_type": "code",
   "execution_count": 67,
   "metadata": {},
   "outputs": [
    {
     "name": "stdout",
     "output_type": "stream",
     "text": [
      "Precision: 0.800\n",
      "Recall: 0.102\n",
      "F1: 0.181\n",
      "AUC: 0.550\n"
     ]
    }
   ],
   "source": [
    "get_metrics(y_train, y_train_pred)\n",
    "# at most is only 0.618 precision TP/ TP + FP\n",
    "# recall TP / TP + FN\n",
    "# predict very few positives in generate\n",
    "# why very low recall???"
   ]
  },
  {
   "cell_type": "code",
   "execution_count": 68,
   "metadata": {},
   "outputs": [
    {
     "name": "stdout",
     "output_type": "stream",
     "text": [
      "Precision: 0.190\n",
      "Recall: 0.028\n",
      "F1: 0.048\n",
      "AUC: 0.510\n"
     ]
    }
   ],
   "source": [
    "get_metrics(y_test, y_test_pred)\n",
    "# very low recall on test dataset\n",
    "# 0.5002 auc"
   ]
  },
  {
   "cell_type": "code",
   "execution_count": 73,
   "metadata": {},
   "outputs": [
    {
     "data": {
      "text/plain": [
       "array([0, 0, 0, ..., 0, 0, 0])"
      ]
     },
     "execution_count": 73,
     "metadata": {},
     "output_type": "execute_result"
    }
   ],
   "source": [
    "# create predictions and submission file\n",
    "# not a good training by itself\n",
    "test3 = test2.drop(['Id'],axis=1)\n",
    "predictions = clf.predict(test3)\n",
    "predictions "
   ]
  },
  {
   "cell_type": "code",
   "execution_count": 75,
   "metadata": {},
   "outputs": [
    {
     "data": {
      "text/plain": [
       "0    116079\n",
       "1       214\n",
       "Name: WnvPresent, dtype: int64"
      ]
     },
     "execution_count": 75,
     "metadata": {},
     "output_type": "execute_result"
    }
   ],
   "source": [
    "sample['WnvPresent'] = predictions\n",
    "# wait why is it not binary prediction, all zeros!\n",
    "sample.WnvPresent.value_counts()"
   ]
  },
  {
   "cell_type": "code",
   "execution_count": 76,
   "metadata": {},
   "outputs": [],
   "source": [
    "sample.to_csv('exp2.csv', index=False)"
   ]
  },
  {
   "cell_type": "code",
   "execution_count": null,
   "metadata": {},
   "outputs": [],
   "source": []
  },
  {
   "cell_type": "code",
   "execution_count": 79,
   "metadata": {},
   "outputs": [
    {
     "data": {
      "text/plain": [
       "GridSearchCV(cv=3, error_score='raise-deprecating',\n",
       "       estimator=GradientBoostingClassifier(criterion='friedman_mse', init=None,\n",
       "              learning_rate=0.1, loss='deviance', max_depth=3,\n",
       "              max_features=None, max_leaf_nodes=None,\n",
       "              min_impurity_decrease=0.0, min_impurity_split=None,\n",
       "              min_samples_leaf=1, min_sampl...      subsample=1.0, tol=0.0001, validation_fraction=0.1,\n",
       "              verbose=0, warm_start=False),\n",
       "       fit_params=None, iid='warn', n_jobs=None,\n",
       "       param_grid=[{'max_depth': [2, 3, 4, 6], 'n_estimators': [50, 100, 150], 'learning_rate': [0.02, 0.04, 0.05, 0.08]}],\n",
       "       pre_dispatch='2*n_jobs', refit=True, return_train_score='warn',\n",
       "       scoring='recall', verbose=0)"
      ]
     },
     "execution_count": 79,
     "metadata": {},
     "output_type": "execute_result"
    }
   ],
   "source": [
    "clf2 = GridSearchCV(gbt, \n",
    "                   tuned_parameters, \n",
    "                   cv=n_folds, \n",
    "                   refit=True, \n",
    "                   scoring='recall')\n",
    "clf2.fit(X_train, y_train)"
   ]
  },
  {
   "cell_type": "code",
   "execution_count": 80,
   "metadata": {},
   "outputs": [
    {
     "data": {
      "text/plain": [
       "{'learning_rate': 0.08, 'max_depth': 6, 'n_estimators': 150}"
      ]
     },
     "execution_count": 80,
     "metadata": {},
     "output_type": "execute_result"
    }
   ],
   "source": [
    "clf2.best_params_"
   ]
  },
  {
   "cell_type": "code",
   "execution_count": 81,
   "metadata": {},
   "outputs": [],
   "source": [
    "y_train_pred = clf2.predict(X_train)\n",
    "y_test_pred = clf2.predict(X_test)"
   ]
  },
  {
   "cell_type": "code",
   "execution_count": 85,
   "metadata": {},
   "outputs": [
    {
     "name": "stdout",
     "output_type": "stream",
     "text": [
      "Precision: 0.985\n",
      "Recall: 0.610\n",
      "F1: 0.753\n",
      "AUC: 0.805\n"
     ]
    }
   ],
   "source": [
    "get_metrics(y_train, y_train_pred)"
   ]
  },
  {
   "cell_type": "code",
   "execution_count": 86,
   "metadata": {},
   "outputs": [
    {
     "name": "stdout",
     "output_type": "stream",
     "text": [
      "Precision: 0.264\n",
      "Recall: 0.097\n",
      "F1: 0.142\n",
      "AUC: 0.540\n"
     ]
    }
   ],
   "source": [
    "get_metrics(y_test, y_test_pred)"
   ]
  },
  {
   "cell_type": "code",
   "execution_count": 87,
   "metadata": {},
   "outputs": [
    {
     "data": {
      "text/plain": [
       "array([0, 0, 0, ..., 0, 0, 0])"
      ]
     },
     "execution_count": 87,
     "metadata": {},
     "output_type": "execute_result"
    }
   ],
   "source": [
    "predictions2 = clf2.predict(test3)\n",
    "predictions2"
   ]
  },
  {
   "cell_type": "code",
   "execution_count": 91,
   "metadata": {},
   "outputs": [
    {
     "data": {
      "text/plain": [
       "array([0.10766408, 0.03962548, 0.06042617, 0.09463617, 0.07395133,\n",
       "       0.09794303, 0.01023595, 0.00339452, 0.        , 0.04098795,\n",
       "       0.00122074, 0.        , 0.09506588, 0.01033639, 0.08959246,\n",
       "       0.03911752, 0.23580233])"
      ]
     },
     "execution_count": 91,
     "metadata": {},
     "output_type": "execute_result"
    }
   ],
   "source": [
    "clf2.best_estimator_.feature_importances_"
   ]
  },
  {
   "cell_type": "code",
   "execution_count": 94,
   "metadata": {},
   "outputs": [],
   "source": [
    "def get_top_features(clf,X):\n",
    "    important_features = pd.Series(data=clf.best_estimator_.feature_importances_,index=X.columns)\n",
    "    important_features.sort_values(ascending=False,inplace=True)\n",
    "    return important_features"
   ]
  },
  {
   "cell_type": "code",
   "execution_count": 95,
   "metadata": {},
   "outputs": [
    {
     "data": {
      "text/plain": [
       "DayOfYear          0.235802\n",
       "Species            0.107664\n",
       "Longitude          0.097943\n",
       "Year               0.095066\n",
       "Trap               0.094636\n",
       "DayOfMonth         0.089592\n",
       "Latitude           0.073951\n",
       "Street             0.060426\n",
       "Zipcode            0.040988\n",
       "Block              0.039625\n",
       "DayOfWeek          0.039118\n",
       "Month              0.010336\n",
       "AddressAccuracy    0.010236\n",
       "City               0.003395\n",
       "Lat_int            0.001221\n",
       "Long_int           0.000000\n",
       "State              0.000000\n",
       "dtype: float64"
      ]
     },
     "execution_count": 95,
     "metadata": {},
     "output_type": "execute_result"
    }
   ],
   "source": [
    "get_top_features(clf2,X)"
   ]
  },
  {
   "cell_type": "code",
   "execution_count": 96,
   "metadata": {},
   "outputs": [
    {
     "data": {
      "text/plain": [
       "DayOfYear          0.357529\n",
       "Longitude          0.128575\n",
       "Year               0.121866\n",
       "Trap               0.103310\n",
       "Species            0.079814\n",
       "Latitude           0.075773\n",
       "Street             0.043263\n",
       "DayOfMonth         0.028922\n",
       "Block              0.020200\n",
       "Zipcode            0.015718\n",
       "Month              0.008483\n",
       "DayOfWeek          0.007994\n",
       "City               0.006987\n",
       "AddressAccuracy    0.000880\n",
       "Lat_int            0.000687\n",
       "Long_int           0.000000\n",
       "State              0.000000\n",
       "dtype: float64"
      ]
     },
     "execution_count": 96,
     "metadata": {},
     "output_type": "execute_result"
    }
   ],
   "source": [
    "get_top_features(clf,X)"
   ]
  },
  {
   "cell_type": "code",
   "execution_count": 88,
   "metadata": {},
   "outputs": [
    {
     "data": {
      "text/plain": [
       "0    115652\n",
       "1       641\n",
       "Name: WnvPresent, dtype: int64"
      ]
     },
     "execution_count": 88,
     "metadata": {},
     "output_type": "execute_result"
    }
   ],
   "source": [
    "sample['WnvPresent'] = predictions2\n",
    "# wait why is it not binary prediction, all zeros!\n",
    "sample.WnvPresent.value_counts()"
   ]
  },
  {
   "cell_type": "code",
   "execution_count": 89,
   "metadata": {},
   "outputs": [],
   "source": [
    "sample.to_csv('exp2_1.csv', index=False)"
   ]
  },
  {
   "cell_type": "code",
   "execution_count": null,
   "metadata": {},
   "outputs": [],
   "source": []
  }
 ],
 "metadata": {
  "kernelspec": {
   "display_name": "Python 3",
   "language": "python",
   "name": "python3"
  },
  "language_info": {
   "codemirror_mode": {
    "name": "ipython",
    "version": 3
   },
   "file_extension": ".py",
   "mimetype": "text/x-python",
   "name": "python",
   "nbconvert_exporter": "python",
   "pygments_lexer": "ipython3",
   "version": "3.6.8"
  }
 },
 "nbformat": 4,
 "nbformat_minor": 2
}
