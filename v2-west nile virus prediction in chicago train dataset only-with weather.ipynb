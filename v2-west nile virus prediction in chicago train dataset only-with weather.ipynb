{
 "cells": [
  {
   "cell_type": "code",
   "execution_count": 2,
   "metadata": {},
   "outputs": [],
   "source": [
    "import pandas as pd\n",
    "import numpy as np\n",
    "from sklearn import ensemble, preprocessing\n",
    "\n",
    "import pandas as pd\n",
    "import numpy as np\n",
    "import matplotlib.pyplot as plt\n",
    "%matplotlib inline"
   ]
  },
  {
   "cell_type": "code",
   "execution_count": 9,
   "metadata": {},
   "outputs": [],
   "source": [
    "# Load dataset \n",
    "train = pd.read_csv('input/train.csv')\n",
    "test = pd.read_csv('input/test.csv')\n",
    "sample = pd.read_csv('input/sampleSubmission.csv')\n",
    "weather = pd.read_csv('input/weather.csv')\n",
    "# spray = pd.read_csv('input/spray.csv')\n",
    "# weather station coordinates\n",
    "station1 = [-87.933 , 41.995]\n",
    "station2 = [-87.752 , 41.786]"
   ]
  },
  {
   "cell_type": "code",
   "execution_count": 15,
   "metadata": {},
   "outputs": [],
   "source": [
    "def generate_date_features(df):\n",
    "    df['Date'] = pd.to_datetime(df['Date'])\n",
    "    df['Year'] = df['Date'].apply(lambda x: x.year)\n",
    "    df['Month'] = df['Date'].apply(lambda x: x.month)\n",
    "    df['DayOfMonth'] = df['Date'].apply(lambda x: x.day)\n",
    "    # df['DayOfWeekName'] = df['Date'].apply(lambda x: x.day_name())\n",
    "    df['DayOfWeek'] = df['Date'].apply(lambda x: x.dayofweek)\n",
    "    df['DayOfYear'] = df['Date'].apply(lambda x: x.dayofyear)\n",
    "    df['WeekOfYear'] = df['Date'].apply(lambda x: x.weekofyear)\n",
    "    df['IsLeapYear'] = df['Date'].apply(lambda x: x.is_leap_year)\n",
    "    df['IsLeapYear'] = df['IsLeapYear'].astype(str)\n",
    "    df['Quarter'] = df['Date'].apply(lambda x: x.quarter)\n",
    "\n",
    "def transform_df(df):\n",
    "    df_ = df.copy()\n",
    "    df_['Lat_int'] = df_.Latitude.astype(int)\n",
    "    df_['Long_int'] = df_.Longitude.astype(int)\n",
    "    return df_"
   ]
  },
  {
   "cell_type": "code",
   "execution_count": 23,
   "metadata": {},
   "outputs": [],
   "source": [
    "train2 = transform_df(train)\n",
    "test2 = transform_df(test)"
   ]
  },
  {
   "cell_type": "code",
   "execution_count": 24,
   "metadata": {},
   "outputs": [
    {
     "data": {
      "text/plain": [
       "Date                       object\n",
       "Address                    object\n",
       "Species                    object\n",
       "Block                       int64\n",
       "Street                     object\n",
       "Trap                       object\n",
       "AddressNumberAndStreet     object\n",
       "Latitude                  float64\n",
       "Longitude                 float64\n",
       "AddressAccuracy             int64\n",
       "NumMosquitos                int64\n",
       "WnvPresent                  int64\n",
       "Lat_int                     int64\n",
       "Long_int                    int64\n",
       "dtype: object"
      ]
     },
     "execution_count": 24,
     "metadata": {},
     "output_type": "execute_result"
    }
   ],
   "source": [
    "train2.dtypes "
   ]
  },
  {
   "cell_type": "code",
   "execution_count": 25,
   "metadata": {},
   "outputs": [
    {
     "data": {
      "text/html": [
       "<div>\n",
       "<style scoped>\n",
       "    .dataframe tbody tr th:only-of-type {\n",
       "        vertical-align: middle;\n",
       "    }\n",
       "\n",
       "    .dataframe tbody tr th {\n",
       "        vertical-align: top;\n",
       "    }\n",
       "\n",
       "    .dataframe thead th {\n",
       "        text-align: right;\n",
       "    }\n",
       "</style>\n",
       "<table border=\"1\" class=\"dataframe\">\n",
       "  <thead>\n",
       "    <tr style=\"text-align: right;\">\n",
       "      <th></th>\n",
       "      <th>Station</th>\n",
       "      <th>Date</th>\n",
       "      <th>Tmax</th>\n",
       "      <th>Tmin</th>\n",
       "      <th>Tavg</th>\n",
       "      <th>Depart</th>\n",
       "      <th>DewPoint</th>\n",
       "      <th>WetBulb</th>\n",
       "      <th>Heat</th>\n",
       "      <th>Cool</th>\n",
       "      <th>...</th>\n",
       "      <th>SeaLevel</th>\n",
       "      <th>ResultSpeed</th>\n",
       "      <th>ResultDir</th>\n",
       "      <th>AvgSpeed</th>\n",
       "      <th>Sunrise_time</th>\n",
       "      <th>Sunrise_hour</th>\n",
       "      <th>Sunrise_minute</th>\n",
       "      <th>Sunset_time</th>\n",
       "      <th>Sunset_hour</th>\n",
       "      <th>Sunset_minute</th>\n",
       "    </tr>\n",
       "  </thead>\n",
       "  <tbody>\n",
       "    <tr>\n",
       "      <th>0</th>\n",
       "      <td>1</td>\n",
       "      <td>2007-05-01</td>\n",
       "      <td>83</td>\n",
       "      <td>50</td>\n",
       "      <td>67</td>\n",
       "      <td>14</td>\n",
       "      <td>51</td>\n",
       "      <td>56</td>\n",
       "      <td>0</td>\n",
       "      <td>2</td>\n",
       "      <td>...</td>\n",
       "      <td>29.82</td>\n",
       "      <td>1.7</td>\n",
       "      <td>27</td>\n",
       "      <td>9.2</td>\n",
       "      <td>448</td>\n",
       "      <td>4</td>\n",
       "      <td>48</td>\n",
       "      <td>1849</td>\n",
       "      <td>18</td>\n",
       "      <td>49</td>\n",
       "    </tr>\n",
       "    <tr>\n",
       "      <th>1</th>\n",
       "      <td>1</td>\n",
       "      <td>2007-05-02</td>\n",
       "      <td>59</td>\n",
       "      <td>42</td>\n",
       "      <td>51</td>\n",
       "      <td>-3</td>\n",
       "      <td>42</td>\n",
       "      <td>47</td>\n",
       "      <td>14</td>\n",
       "      <td>0</td>\n",
       "      <td>...</td>\n",
       "      <td>30.09</td>\n",
       "      <td>13.0</td>\n",
       "      <td>4</td>\n",
       "      <td>13.4</td>\n",
       "      <td>447</td>\n",
       "      <td>4</td>\n",
       "      <td>47</td>\n",
       "      <td>1850</td>\n",
       "      <td>18</td>\n",
       "      <td>50</td>\n",
       "    </tr>\n",
       "    <tr>\n",
       "      <th>2</th>\n",
       "      <td>1</td>\n",
       "      <td>2007-05-03</td>\n",
       "      <td>66</td>\n",
       "      <td>46</td>\n",
       "      <td>56</td>\n",
       "      <td>2</td>\n",
       "      <td>40</td>\n",
       "      <td>48</td>\n",
       "      <td>9</td>\n",
       "      <td>0</td>\n",
       "      <td>...</td>\n",
       "      <td>30.12</td>\n",
       "      <td>11.7</td>\n",
       "      <td>7</td>\n",
       "      <td>11.9</td>\n",
       "      <td>446</td>\n",
       "      <td>4</td>\n",
       "      <td>46</td>\n",
       "      <td>1851</td>\n",
       "      <td>18</td>\n",
       "      <td>51</td>\n",
       "    </tr>\n",
       "    <tr>\n",
       "      <th>3</th>\n",
       "      <td>1</td>\n",
       "      <td>2007-05-04</td>\n",
       "      <td>66</td>\n",
       "      <td>49</td>\n",
       "      <td>58</td>\n",
       "      <td>4</td>\n",
       "      <td>41</td>\n",
       "      <td>50</td>\n",
       "      <td>7</td>\n",
       "      <td>0</td>\n",
       "      <td>...</td>\n",
       "      <td>30.05</td>\n",
       "      <td>10.4</td>\n",
       "      <td>8</td>\n",
       "      <td>10.8</td>\n",
       "      <td>444</td>\n",
       "      <td>4</td>\n",
       "      <td>44</td>\n",
       "      <td>1852</td>\n",
       "      <td>18</td>\n",
       "      <td>52</td>\n",
       "    </tr>\n",
       "    <tr>\n",
       "      <th>4</th>\n",
       "      <td>1</td>\n",
       "      <td>2007-05-05</td>\n",
       "      <td>66</td>\n",
       "      <td>53</td>\n",
       "      <td>60</td>\n",
       "      <td>5</td>\n",
       "      <td>38</td>\n",
       "      <td>49</td>\n",
       "      <td>5</td>\n",
       "      <td>0</td>\n",
       "      <td>...</td>\n",
       "      <td>30.10</td>\n",
       "      <td>11.7</td>\n",
       "      <td>7</td>\n",
       "      <td>12.0</td>\n",
       "      <td>443</td>\n",
       "      <td>4</td>\n",
       "      <td>43</td>\n",
       "      <td>1853</td>\n",
       "      <td>18</td>\n",
       "      <td>53</td>\n",
       "    </tr>\n",
       "  </tbody>\n",
       "</table>\n",
       "<p>5 rows × 24 columns</p>\n",
       "</div>"
      ],
      "text/plain": [
       "   Station        Date  Tmax  Tmin  Tavg  Depart  DewPoint  WetBulb  Heat  \\\n",
       "0        1  2007-05-01    83    50    67      14        51       56     0   \n",
       "1        1  2007-05-02    59    42    51      -3        42       47    14   \n",
       "2        1  2007-05-03    66    46    56       2        40       48     9   \n",
       "3        1  2007-05-04    66    49    58       4        41       50     7   \n",
       "4        1  2007-05-05    66    53    60       5        38       49     5   \n",
       "\n",
       "   Cool  ...  SeaLevel  ResultSpeed  ResultDir  AvgSpeed  Sunrise_time  \\\n",
       "0     2  ...     29.82          1.7         27       9.2           448   \n",
       "1     0  ...     30.09         13.0          4      13.4           447   \n",
       "2     0  ...     30.12         11.7          7      11.9           446   \n",
       "3     0  ...     30.05         10.4          8      10.8           444   \n",
       "4     0  ...     30.10         11.7          7      12.0           443   \n",
       "\n",
       "   Sunrise_hour  Sunrise_minute  Sunset_time  Sunset_hour  Sunset_minute  \n",
       "0             4              48         1849           18             49  \n",
       "1             4              47         1850           18             50  \n",
       "2             4              46         1851           18             51  \n",
       "3             4              44         1852           18             52  \n",
       "4             4              43         1853           18             53  \n",
       "\n",
       "[5 rows x 24 columns]"
      ]
     },
     "execution_count": 25,
     "metadata": {},
     "output_type": "execute_result"
    }
   ],
   "source": [
    "weather_new = pd.read_csv('weather_new_v1.csv')\n",
    "weather_new.head()"
   ]
  },
  {
   "cell_type": "code",
   "execution_count": 26,
   "metadata": {},
   "outputs": [],
   "source": [
    "from scipy.spatial import distance\n",
    "def nearest_weather_station(coordinate, station1, station2):\n",
    "    coordinate_list = coordinate.split(',')\n",
    "    long = float(coordinate_list[0])\n",
    "    lat = float(coordinate_list[1])\n",
    "    current = [long, lat]\n",
    "    dist1 = distance.euclidean(current,station1)\n",
    "    dist2 = distance.euclidean(current,station2)\n",
    "    if dist1 < dist2: return 1\n",
    "    else: return 2\n",
    "def transform_data(df, weather_new, station1, station2):\n",
    "    # get nearest weather\n",
    "    df_ = df.copy()\n",
    "    df_['Coordinate'] = df_['Longitude'].astype(str) + \",\" + df_['Latitude'].astype(str)\n",
    "    df_['Station'] = df_['Coordinate'].apply(lambda x: nearest_weather_station(x, station1, station2))\n",
    "    df_with_weather = pd.merge(df_, weather_new, on= ['Date','Station'])\n",
    "    generate_date_features(df_with_weather) # later\n",
    "    return df_with_weather"
   ]
  },
  {
   "cell_type": "code",
   "execution_count": 27,
   "metadata": {},
   "outputs": [],
   "source": [
    "train_with_weather = transform_data(train2, weather_new, station1, station2)\n",
    "test_with_weather = transform_data(test2, weather_new, station1, station2)"
   ]
  },
  {
   "cell_type": "code",
   "execution_count": 28,
   "metadata": {},
   "outputs": [
    {
     "data": {
      "text/plain": [
       "Date                      datetime64[ns]\n",
       "Address                           object\n",
       "Species                           object\n",
       "Block                              int64\n",
       "Street                            object\n",
       "Trap                              object\n",
       "AddressNumberAndStreet            object\n",
       "Latitude                         float64\n",
       "Longitude                        float64\n",
       "AddressAccuracy                    int64\n",
       "NumMosquitos                       int64\n",
       "WnvPresent                         int64\n",
       "Lat_int                            int64\n",
       "Long_int                           int64\n",
       "Coordinate                        object\n",
       "Station                            int64\n",
       "Tmax                               int64\n",
       "Tmin                               int64\n",
       "Tavg                               int64\n",
       "Depart                             int64\n",
       "DewPoint                           int64\n",
       "WetBulb                            int64\n",
       "Heat                               int64\n",
       "Cool                               int64\n",
       "Depth                              int64\n",
       "SnowFall                         float64\n",
       "PrecipTotal                      float64\n",
       "StnPressure                      float64\n",
       "SeaLevel                         float64\n",
       "ResultSpeed                      float64\n",
       "ResultDir                          int64\n",
       "AvgSpeed                         float64\n",
       "Sunrise_time                       int64\n",
       "Sunrise_hour                       int64\n",
       "Sunrise_minute                     int64\n",
       "Sunset_time                        int64\n",
       "Sunset_hour                        int64\n",
       "Sunset_minute                      int64\n",
       "Year                               int64\n",
       "Month                              int64\n",
       "DayOfMonth                         int64\n",
       "DayOfWeek                          int64\n",
       "DayOfYear                          int64\n",
       "WeekOfYear                         int64\n",
       "IsLeapYear                        object\n",
       "Quarter                            int64\n",
       "dtype: object"
      ]
     },
     "execution_count": 28,
     "metadata": {},
     "output_type": "execute_result"
    }
   ],
   "source": [
    "train_with_weather.dtypes"
   ]
  },
  {
   "cell_type": "code",
   "execution_count": 29,
   "metadata": {},
   "outputs": [],
   "source": [
    "# drop address columns\n",
    "train_with_weather = train_with_weather.drop(['Date','Coordinate','Address', 'AddressNumberAndStreet','WnvPresent', 'NumMosquitos'],  axis = 1)\n",
    "test_with_weather = test_with_weather.drop(['Date','Coordinate','Id', 'Address', 'AddressNumberAndStreet'],axis = 1)"
   ]
  },
  {
   "cell_type": "markdown",
   "metadata": {},
   "source": [
    "# label encoder"
   ]
  },
  {
   "cell_type": "code",
   "execution_count": 31,
   "metadata": {},
   "outputs": [],
   "source": [
    "from sklearn import ensemble, preprocessing"
   ]
  },
  {
   "cell_type": "code",
   "execution_count": 39,
   "metadata": {},
   "outputs": [],
   "source": [
    "def get_label_encoder(train, test, cols):\n",
    "    lbl = preprocessing.LabelEncoder()\n",
    "    for col in cols:\n",
    "        lbl.fit(list(train[col].values) + list(test[col].values))\n",
    "        train[col] = lbl.transform(train[col].values)\n",
    "        test[col] = lbl.transform(test[col].values)"
   ]
  },
  {
   "cell_type": "code",
   "execution_count": 40,
   "metadata": {},
   "outputs": [
    {
     "data": {
      "text/plain": [
       "Index(['Species', 'Street', 'Trap', 'IsLeapYear'], dtype='object')"
      ]
     },
     "execution_count": 40,
     "metadata": {},
     "output_type": "execute_result"
    }
   ],
   "source": [
    "obj_cols = train_with_weather.select_dtypes(include=['object']).columns\n",
    "obj_cols"
   ]
  },
  {
   "cell_type": "code",
   "execution_count": 41,
   "metadata": {},
   "outputs": [],
   "source": [
    "get_label_encoder(train_with_weather, test_with_weather, obj_cols)"
   ]
  },
  {
   "cell_type": "code",
   "execution_count": 44,
   "metadata": {},
   "outputs": [],
   "source": [
    "# Get labels\n",
    "labels = train.WnvPresent.values"
   ]
  },
  {
   "cell_type": "code",
   "execution_count": 50,
   "metadata": {},
   "outputs": [],
   "source": [
    "train_data = train_with_weather.values # need to convert to np array"
   ]
  },
  {
   "cell_type": "code",
   "execution_count": 52,
   "metadata": {},
   "outputs": [
    {
     "data": {
      "text/plain": [
       "RandomForestClassifier(bootstrap=True, class_weight=None, criterion='gini',\n",
       "            max_depth=None, max_features='auto', max_leaf_nodes=None,\n",
       "            min_impurity_decrease=0.0, min_impurity_split=None,\n",
       "            min_samples_leaf=1, min_samples_split=1.0,\n",
       "            min_weight_fraction_leaf=0.0, n_estimators=1000, n_jobs=-1,\n",
       "            oob_score=False, random_state=None, verbose=0,\n",
       "            warm_start=False)"
      ]
     },
     "execution_count": 52,
     "metadata": {},
     "output_type": "execute_result"
    }
   ],
   "source": [
    "# Random Forest Classifier \n",
    "clf = ensemble.RandomForestClassifier(n_jobs=-1, n_estimators=1000, min_samples_split=1.0)\n",
    "clf.fit(train_data, labels)"
   ]
  },
  {
   "cell_type": "code",
   "execution_count": 53,
   "metadata": {},
   "outputs": [
    {
     "data": {
      "text/plain": [
       "0    116293\n",
       "Name: WnvPresent, dtype: int64"
      ]
     },
     "execution_count": 53,
     "metadata": {},
     "output_type": "execute_result"
    }
   ],
   "source": [
    "# create predictions and submission file\n",
    "# not a good training by itself\n",
    "predictions = clf.predict(test_with_weather)\n",
    "sample['WnvPresent'] = predictions \n",
    "# wait why is it not binary prediction, all zeros????\n",
    "# why it is still all 0\n",
    "sample.WnvPresent.value_counts()"
   ]
  },
  {
   "cell_type": "code",
   "execution_count": 78,
   "metadata": {},
   "outputs": [],
   "source": [
    "sample.to_csv('preds_v1_train_only.csv', index=False)"
   ]
  }
 ],
 "metadata": {
  "kernelspec": {
   "display_name": "Python 3",
   "language": "python",
   "name": "python3"
  },
  "language_info": {
   "codemirror_mode": {
    "name": "ipython",
    "version": 3
   },
   "file_extension": ".py",
   "mimetype": "text/x-python",
   "name": "python",
   "nbconvert_exporter": "python",
   "pygments_lexer": "ipython3",
   "version": "3.6.8"
  }
 },
 "nbformat": 4,
 "nbformat_minor": 2
}
