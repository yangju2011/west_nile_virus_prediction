{
 "cells": [
  {
   "cell_type": "code",
   "execution_count": 119,
   "metadata": {},
   "outputs": [],
   "source": [
    "import pandas as pd\n",
    "import numpy as np\n",
    "from sklearn import ensemble, preprocessing\n",
    "\n",
    "import pandas as pd\n",
    "import numpy as np\n",
    "import matplotlib.pyplot as plt\n",
    "%matplotlib inline"
   ]
  },
  {
   "cell_type": "code",
   "execution_count": 120,
   "metadata": {},
   "outputs": [],
   "source": [
    "# Load dataset \n",
    "train = pd.read_csv('input/train.csv')\n",
    "test = pd.read_csv('input/test.csv')\n",
    "sample = pd.read_csv('input/sampleSubmission.csv')\n",
    "\n",
    "# weather = pd.read_csv('input/weather.csv')\n",
    "# spray = pd.read_csv('input/spray.csv')"
   ]
  },
  {
   "cell_type": "code",
   "execution_count": 121,
   "metadata": {},
   "outputs": [
    {
     "data": {
      "text/plain": [
       "Date                       object\n",
       "Address                    object\n",
       "Species                    object\n",
       "Block                       int64\n",
       "Street                     object\n",
       "Trap                       object\n",
       "AddressNumberAndStreet     object\n",
       "Latitude                  float64\n",
       "Longitude                 float64\n",
       "AddressAccuracy             int64\n",
       "NumMosquitos                int64\n",
       "WnvPresent                  int64\n",
       "dtype: object"
      ]
     },
     "execution_count": 121,
     "metadata": {},
     "output_type": "execute_result"
    }
   ],
   "source": [
    "train.dtypes"
   ]
  },
  {
   "cell_type": "code",
   "execution_count": 122,
   "metadata": {},
   "outputs": [
    {
     "data": {
      "text/plain": [
       "Id                          int64\n",
       "Date                       object\n",
       "Address                    object\n",
       "Species                    object\n",
       "Block                       int64\n",
       "Street                     object\n",
       "Trap                       object\n",
       "AddressNumberAndStreet     object\n",
       "Latitude                  float64\n",
       "Longitude                 float64\n",
       "AddressAccuracy             int64\n",
       "dtype: object"
      ]
     },
     "execution_count": 122,
     "metadata": {},
     "output_type": "execute_result"
    }
   ],
   "source": [
    "test.dtypes"
   ]
  },
  {
   "cell_type": "code",
   "execution_count": 123,
   "metadata": {},
   "outputs": [],
   "source": [
    "def generate_date_features(df):\n",
    "    df['Date'] = pd.to_datetime(df['Date'])\n",
    "    df['Year'] = df['Date'].apply(lambda x: x.year)\n",
    "    df['Month'] = df['Date'].apply(lambda x: x.month)\n",
    "    df['DayOfMonth'] = df['Date'].apply(lambda x: x.day)\n",
    "    # df['DayOfWeekName'] = df['Date'].apply(lambda x: x.day_name())\n",
    "    df['DayOfWeek'] = df['Date'].apply(lambda x: x.dayofweek)\n",
    "    df['DayOfYear'] = df['Date'].apply(lambda x: x.dayofyear)\n",
    "    # df['WeekOfYear'] = df['Date'].apply(lambda x: x.weekofyear)\n",
    "    #df['IsLeapYear'] = df['Date'].apply(lambda x: x.is_leap_year)\n",
    "    #df['IsLeapYear'] = df['IsLeapYear'].astype(str)\n",
    "    # df['Quarter'] = df['Date'].apply(lambda x: x.quarter)\n",
    "\n",
    "def transform_df(df):\n",
    "    df_ = df.copy()\n",
    "    df_['Lat_int'] = df_.Latitude.astype(int)\n",
    "    df_['Long_int'] = df_.Longitude.astype(int)\n",
    "    generate_date_features(df_)\n",
    "    return df_"
   ]
  },
  {
   "cell_type": "code",
   "execution_count": 124,
   "metadata": {},
   "outputs": [],
   "source": [
    "train2 = transform_df(train)\n",
    "test2 = transform_df(test)"
   ]
  },
  {
   "cell_type": "code",
   "execution_count": 125,
   "metadata": {},
   "outputs": [],
   "source": [
    "# drop address columns\n",
    "train2 = train2.drop(['Date','Address', 'AddressNumberAndStreet','WnvPresent', 'NumMosquitos'],  axis = 1)\n",
    "test2 = test2.drop(['Date','Id', 'Address', 'AddressNumberAndStreet'],axis = 1)"
   ]
  },
  {
   "cell_type": "code",
   "execution_count": 126,
   "metadata": {},
   "outputs": [
    {
     "data": {
      "text/plain": [
       "Species             object\n",
       "Block                int64\n",
       "Street              object\n",
       "Trap                object\n",
       "Latitude           float64\n",
       "Longitude          float64\n",
       "AddressAccuracy      int64\n",
       "Lat_int              int64\n",
       "Long_int             int64\n",
       "Year                 int64\n",
       "Month                int64\n",
       "DayOfMonth           int64\n",
       "DayOfWeek            int64\n",
       "DayOfYear            int64\n",
       "dtype: object"
      ]
     },
     "execution_count": 126,
     "metadata": {},
     "output_type": "execute_result"
    }
   ],
   "source": [
    "train2.dtypes "
   ]
  },
  {
   "cell_type": "markdown",
   "metadata": {},
   "source": [
    "# label encoder"
   ]
  },
  {
   "cell_type": "code",
   "execution_count": 127,
   "metadata": {},
   "outputs": [],
   "source": [
    "from sklearn import preprocessing\n",
    "from sklearn import ensemble\n",
    "from sklearn.model_selection import train_test_split\n",
    "from sklearn.model_selection import KFold\n",
    "from sklearn.model_selection import GridSearchCV\n",
    "from sklearn.metrics import accuracy_score, precision_score, recall_score, f1_score, roc_auc_score"
   ]
  },
  {
   "cell_type": "code",
   "execution_count": 128,
   "metadata": {},
   "outputs": [],
   "source": [
    "# Convert categorical data to numbers\n",
    "lbl = preprocessing.LabelEncoder()\n",
    "lbl.fit(list(train2['Species'].values) + list(test2['Species'].values))\n",
    "train2['Species'] = lbl.transform(train2['Species'].values)\n",
    "test2['Species'] = lbl.transform(test2['Species'].values)\n",
    "\n",
    "lbl.fit(list(train2['Street'].values) + list(test2['Street'].values))\n",
    "train2['Street'] = lbl.transform(train2['Street'].values)\n",
    "test2['Street'] = lbl.transform(test2['Street'].values)\n",
    "\n",
    "lbl.fit(list(train['Trap'].values) + list(test['Trap'].values))\n",
    "train2['Trap'] = lbl.transform(train2['Trap'].values)\n",
    "test2['Trap'] = lbl.transform(test2['Trap'].values)"
   ]
  },
  {
   "cell_type": "code",
   "execution_count": 129,
   "metadata": {},
   "outputs": [],
   "source": [
    "# Get labels\n",
    "labels = train.WnvPresent.values"
   ]
  },
  {
   "cell_type": "code",
   "execution_count": 130,
   "metadata": {},
   "outputs": [
    {
     "data": {
      "text/plain": [
       "Species              int64\n",
       "Block                int64\n",
       "Street               int64\n",
       "Trap                 int64\n",
       "Latitude           float64\n",
       "Longitude          float64\n",
       "AddressAccuracy      int64\n",
       "Lat_int              int64\n",
       "Long_int             int64\n",
       "Year                 int64\n",
       "Month                int64\n",
       "DayOfMonth           int64\n",
       "DayOfWeek            int64\n",
       "DayOfYear            int64\n",
       "dtype: object"
      ]
     },
     "execution_count": 130,
     "metadata": {},
     "output_type": "execute_result"
    }
   ],
   "source": [
    "train2.dtypes"
   ]
  },
  {
   "cell_type": "code",
   "execution_count": 131,
   "metadata": {},
   "outputs": [],
   "source": [
    "X = train2\n",
    "y = labels\n",
    "X_train, X_test, y_train, y_test = train_test_split(X, \n",
    "                                                    y, \n",
    "                                                    test_size=0.3,\n",
    "                                                    random_state=42)"
   ]
  },
  {
   "cell_type": "code",
   "execution_count": 132,
   "metadata": {},
   "outputs": [],
   "source": [
    "gbt = ensemble.GradientBoostingClassifier()\n",
    "\n",
    "learning_rate = [0.02, 0.04, 0.05, 0.08]\n",
    "max_depth = [2, 3, 4, 6]\n",
    "n_estimators = [50, 100, 150]\n",
    "\n",
    "tuned_parameters = [{'max_depth': max_depth,\n",
    "                     'n_estimators':n_estimators,\n",
    "                     'learning_rate':learning_rate \n",
    "                    }]\n",
    "n_folds = 3\n",
    "\n",
    "# cv with aucroc\n",
    "clf = GridSearchCV(gbt, \n",
    "                   tuned_parameters, \n",
    "                   cv=n_folds, \n",
    "                   refit=True, \n",
    "                   scoring='roc_auc')\n",
    "clf2 = GridSearchCV(gbt, \n",
    "                   tuned_parameters, \n",
    "                   cv=n_folds, \n",
    "                   refit=True, \n",
    "                   scoring='recall')\n",
    "# do we use refit or not\n",
    "# if not refit, need to redo fit with training data"
   ]
  },
  {
   "cell_type": "code",
   "execution_count": 146,
   "metadata": {},
   "outputs": [],
   "source": [
    "from sklearn.linear_model import LogisticRegression\n",
    "clf = LogisticRegression()"
   ]
  },
  {
   "cell_type": "code",
   "execution_count": 153,
   "metadata": {},
   "outputs": [
    {
     "name": "stdout",
     "output_type": "stream",
     "text": [
      "CPU times: user 74.2 ms, sys: 2.72 ms, total: 76.9 ms\n",
      "Wall time: 75.6 ms\n"
     ]
    },
    {
     "name": "stderr",
     "output_type": "stream",
     "text": [
      "/Users/juyang/anaconda2/envs/sparkbeyond/lib/python3.6/site-packages/sklearn/linear_model/logistic.py:433: FutureWarning: Default solver will be changed to 'lbfgs' in 0.22. Specify a solver to silence this warning.\n",
      "  FutureWarning)\n"
     ]
    },
    {
     "data": {
      "text/plain": [
       "LogisticRegression(C=1.0, class_weight=None, dual=False, fit_intercept=True,\n",
       "          intercept_scaling=1, max_iter=100, multi_class='warn',\n",
       "          n_jobs=None, penalty='l2', random_state=None, solver='warn',\n",
       "          tol=0.0001, verbose=0, warm_start=False)"
      ]
     },
     "execution_count": 153,
     "metadata": {},
     "output_type": "execute_result"
    }
   ],
   "source": [
    "%%time\n",
    "clf.fit(X_train, y_train)"
   ]
  },
  {
   "cell_type": "code",
   "execution_count": 160,
   "metadata": {},
   "outputs": [],
   "source": [
    "def get_metrics(y_true, y_pred, y_pred_proba):\n",
    "    print(\"Precision: %1.3f\" % precision_score(y_true, y_pred))\n",
    "    print(\"Recall: %1.3f\" % recall_score(y_true, y_pred))\n",
    "    print(\"F1: %1.3f\" % f1_score(y_true, y_pred))\n",
    "    print(\"AUC: %1.3f\" % roc_auc_score(y_true, y_pred))\n",
    "    print(\"AUC proba: %1.3f\" % roc_auc_score(y_true, y_pred_proba))"
   ]
  },
  {
   "cell_type": "code",
   "execution_count": 163,
   "metadata": {},
   "outputs": [],
   "source": [
    "y_train_pred = clf.predict(X_train)\n",
    "y_train_pred_proba = clf.predict_proba(X_train)[:,1]\n",
    "y_test_pred = clf.predict(X_test)\n",
    "y_test_pred_proba = clf.predict_proba(X_test)[:,1]\n"
   ]
  },
  {
   "cell_type": "code",
   "execution_count": 164,
   "metadata": {},
   "outputs": [
    {
     "name": "stdout",
     "output_type": "stream",
     "text": [
      "Precision: 0.000\n",
      "Recall: 0.000\n",
      "F1: 0.000\n",
      "AUC: 0.500\n",
      "AUC proba: 0.705\n"
     ]
    },
    {
     "name": "stderr",
     "output_type": "stream",
     "text": [
      "/Users/juyang/anaconda2/envs/sparkbeyond/lib/python3.6/site-packages/sklearn/metrics/classification.py:1143: UndefinedMetricWarning: Precision is ill-defined and being set to 0.0 due to no predicted samples.\n",
      "  'precision', 'predicted', average, warn_for)\n",
      "/Users/juyang/anaconda2/envs/sparkbeyond/lib/python3.6/site-packages/sklearn/metrics/classification.py:1143: UndefinedMetricWarning: F-score is ill-defined and being set to 0.0 due to no predicted samples.\n",
      "  'precision', 'predicted', average, warn_for)\n"
     ]
    }
   ],
   "source": [
    "get_metrics(y_train, y_train_pred, y_train_pred_proba)\n",
    "# at most is only 0.618 precision TP/ TP + FP\n",
    "# recall TP / TP + FN\n",
    "# predict very few positives in generate\n",
    "# why very low recall???"
   ]
  },
  {
   "cell_type": "code",
   "execution_count": 165,
   "metadata": {},
   "outputs": [
    {
     "name": "stdout",
     "output_type": "stream",
     "text": [
      "Precision: 0.000\n",
      "Recall: 0.000\n",
      "F1: 0.000\n",
      "AUC: 0.500\n",
      "AUC proba: 0.693\n"
     ]
    },
    {
     "name": "stderr",
     "output_type": "stream",
     "text": [
      "/Users/juyang/anaconda2/envs/sparkbeyond/lib/python3.6/site-packages/sklearn/metrics/classification.py:1143: UndefinedMetricWarning: Precision is ill-defined and being set to 0.0 due to no predicted samples.\n",
      "  'precision', 'predicted', average, warn_for)\n",
      "/Users/juyang/anaconda2/envs/sparkbeyond/lib/python3.6/site-packages/sklearn/metrics/classification.py:1143: UndefinedMetricWarning: F-score is ill-defined and being set to 0.0 due to no predicted samples.\n",
      "  'precision', 'predicted', average, warn_for)\n"
     ]
    }
   ],
   "source": [
    "get_metrics(y_test, y_test_pred,y_test_pred_proba)\n",
    "# very low recall on test dataset\n",
    "# 0.5002 auc"
   ]
  },
  {
   "cell_type": "code",
   "execution_count": 167,
   "metadata": {},
   "outputs": [
    {
     "data": {
      "text/plain": [
       "array([0.01862009, 0.01032872, 0.03334312, ..., 0.01687283, 0.00516595,\n",
       "       0.25418738])"
      ]
     },
     "execution_count": 167,
     "metadata": {},
     "output_type": "execute_result"
    }
   ],
   "source": [
    "# create predictions and submission file\n",
    "# not a good training by itself\n",
    "predictions = clf.predict_proba(test2)[:,1]\n",
    "predictions "
   ]
  },
  {
   "cell_type": "code",
   "execution_count": 168,
   "metadata": {},
   "outputs": [],
   "source": [
    "sample['WnvPresent'] = predictions \n",
    "# wait why is it not binary prediction, all zeros!\n",
    "# sample.WnvPresent.value_counts()"
   ]
  },
  {
   "cell_type": "code",
   "execution_count": 169,
   "metadata": {},
   "outputs": [],
   "source": [
    "sample.to_csv('exp1_2.csv', index=False)"
   ]
  },
  {
   "cell_type": "code",
   "execution_count": null,
   "metadata": {},
   "outputs": [],
   "source": []
  },
  {
   "cell_type": "code",
   "execution_count": 134,
   "metadata": {},
   "outputs": [],
   "source": [
    "y_train_pred = clf2.predict(X_train)\n",
    "y_test_pred = clf2.predict(X_test)"
   ]
  },
  {
   "cell_type": "code",
   "execution_count": 135,
   "metadata": {},
   "outputs": [
    {
     "name": "stdout",
     "output_type": "stream",
     "text": [
      "Precision: 0.939\n",
      "Recall: 0.400\n",
      "F1: 0.561\n",
      "AUC: 0.699\n"
     ]
    }
   ],
   "source": [
    "get_metrics(y_train, y_train_pred)"
   ]
  },
  {
   "cell_type": "code",
   "execution_count": 136,
   "metadata": {},
   "outputs": [
    {
     "name": "stdout",
     "output_type": "stream",
     "text": [
      "Precision: 0.436\n",
      "Recall: 0.102\n",
      "F1: 0.166\n",
      "AUC: 0.548\n"
     ]
    }
   ],
   "source": [
    "get_metrics(y_test, y_test_pred)"
   ]
  },
  {
   "cell_type": "code",
   "execution_count": 142,
   "metadata": {},
   "outputs": [
    {
     "data": {
      "text/plain": [
       "array([0.00130257, 0.00044301, 0.00059825, ..., 0.01398145, 0.01398145,\n",
       "       0.00640116])"
      ]
     },
     "execution_count": 142,
     "metadata": {},
     "output_type": "execute_result"
    }
   ],
   "source": [
    "predictions = clf2.predict_proba(test2)[:,1]\n",
    "predictions "
   ]
  },
  {
   "cell_type": "code",
   "execution_count": 144,
   "metadata": {},
   "outputs": [],
   "source": [
    "sample['WnvPresent'] = predictions \n",
    "# wait why is it not binary prediction, all zeros!"
   ]
  },
  {
   "cell_type": "code",
   "execution_count": 145,
   "metadata": {},
   "outputs": [],
   "source": [
    "sample.to_csv('exp1_2.csv', index=False)"
   ]
  },
  {
   "cell_type": "code",
   "execution_count": null,
   "metadata": {},
   "outputs": [],
   "source": []
  }
 ],
 "metadata": {
  "kernelspec": {
   "display_name": "Python 3",
   "language": "python",
   "name": "python3"
  },
  "language_info": {
   "codemirror_mode": {
    "name": "ipython",
    "version": 3
   },
   "file_extension": ".py",
   "mimetype": "text/x-python",
   "name": "python",
   "nbconvert_exporter": "python",
   "pygments_lexer": "ipython3",
   "version": "3.6.8"
  }
 },
 "nbformat": 4,
 "nbformat_minor": 2
}
